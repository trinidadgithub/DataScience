{
 "cells": [
  {
   "cell_type": "code",
   "metadata": {
    "ExecuteTime": {
     "end_time": "2024-10-08T01:34:07.813151Z",
     "start_time": "2024-10-08T01:34:07.809326Z"
    }
   },
   "source": [
    "# Trinidad Marroquin\n",
    "# qsq707"
   ],
   "outputs": [],
   "execution_count": 18
  },
  {
   "cell_type": "markdown",
   "metadata": {},
   "source": [
    "## Lab 6B\n",
    "\n",
    "<em>This lab introduces you to machine learning and the Scikit-Learn library. You'll analyze a given data set using the techniques of machine learning following book chapter 15 closely. We'll work with the digits dataset which comes with the Scikit-learn library to categorize hand written digits to determine which number it is.\n",
    "\n",
    "### Tasks\n",
    "\n",
    "You will do the following\n",
    "1. Install the scikit-learn library by entering ```pip install -U scikit-learn``` in the Anaconda Prompt (not the notebook)\n",
    "2. The data of the digits data set is already loaded into the variable ```digits``` in the code below. Your task is to split this data into training and a testing data \n",
    "3. Use the k-nearest neighbour model to classify the data (meaning determine which number the hand written digit is)\n",
    "4. Test your model comparing the predicted values with the actual values using the testing subset. \n",
    "    - Calculate the acuracy the model predicts the correct digit from the pixel graphic of the hand written digit.\n",
    "    - Create a heatmap of the confusion matrix"
   ]
  },
  {
   "cell_type": "code",
   "metadata": {
    "ExecuteTime": {
     "end_time": "2024-10-08T01:34:11.511007Z",
     "start_time": "2024-10-08T01:34:07.823173Z"
    }
   },
   "source": [
    "import matplotlib.pyplot as plt\n",
    "from sklearn.datasets import load_digits\n",
    "from sklearn.model_selection import train_test_split\n",
    "import psutil\n",
    "\n",
    "# Function to check system resources\n",
    "def check_system_resources():\n",
    "    cpu_usage = psutil.cpu_percent(interval=1)\n",
    "    memory_info = psutil.virtual_memory()\n",
    "    disk_info = psutil.disk_usage('/')\n",
    "\n",
    "    print(f\"CPU Usage: {cpu_usage}%\")\n",
    "    print(f\"Memory Available: {memory_info.available / (1024 ** 2):.2f} MB\")\n",
    "    print(f\"Disk Space Available: {disk_info.free / (1024 ** 2):.2f} MB\")\n",
    "\n",
    "# Load the dataset inside a try-except block to catch any errors\n",
    "try:\n",
    "    # Check system resources before data loading\n",
    "    print(\"Checking system resources before loading data:\")\n",
    "    check_system_resources()\n",
    "\n",
    "    digits = load_digits()\n",
    "\n",
    "    print(\"\\nData successfully loaded.\")\n",
    "    \n",
    "    # Display some pictures in the data set of the digits\n",
    "    figure, axes = plt.subplots(nrows=4, ncols=6, figsize=(6, 4))\n",
    "\n",
    "    for item in zip(axes.ravel(), digits.images, digits.target):\n",
    "        axes, image, target = item\n",
    "        axes.imshow(image, cmap=plt.cm.gray_r)\n",
    "        axes.set_xticks([])\n",
    "        axes.set_yticks([])\n",
    "        axes.set_title(target)\n",
    "\n",
    "    plt.tight_layout()\n",
    "    \n",
    "    # Reshaping the data to feed into the model\n",
    "    X = digits.images.reshape((len(digits.images), -1))\n",
    "    y = digits.target\n",
    "\n",
    "    # Check system resources after data preparation\n",
    "    print(\"\\nChecking system resources after data preparation:\")\n",
    "    check_system_resources()\n",
    "\n",
    "    # Split the data into training and testing sets\n",
    "    try:\n",
    "        print(\"\\nAttempting to split data into training and testing sets...\")\n",
    "        X_train, X_test, y_train, y_test = train_test_split(X, y, test_size=0.2, random_state=42)\n",
    "\n",
    "    except ValueError as e:\n",
    "        print(f\"ValueError during data split: {e}\")\n",
    "    else:\n",
    "        print(\"Data successfully split into training and testing sets.\")\n",
    "        print(f\"Training set size: {X_train.shape[0]}\")\n",
    "        print(f\"Testing set size: {X_test.shape[0]}\")\n",
    "    \n",
    "    finally:\n",
    "        # Check system resources after the data split\n",
    "        print(\"\\nFinal system resource check:\")\n",
    "        check_system_resources()\n",
    "\n",
    "except Exception as e:\n",
    "    print(f\"An error occurred: {e}\")\n",
    "finally:\n",
    "    print(\"\\nExecution complete.\")\n"
   ],
   "outputs": [
    {
     "name": "stdout",
     "output_type": "stream",
     "text": [
      "Checking system resources before loading data:\n",
      "CPU Usage: 7.9%\n",
      "Memory Available: 16209.14 MB\n",
      "Disk Space Available: 200425.18 MB\n",
      "\n",
      "Data successfully loaded.\n",
      "\n",
      "Checking system resources after data preparation:\n",
      "CPU Usage: 1.2%\n",
      "Memory Available: 16214.59 MB\n",
      "Disk Space Available: 200425.16 MB\n",
      "\n",
      "Attempting to split data into training and testing sets...\n",
      "Data successfully split into training and testing sets.\n",
      "Training set size: 1437\n",
      "Testing set size: 360\n",
      "\n",
      "Final system resource check:\n",
      "CPU Usage: 0.6%\n",
      "Memory Available: 16208.96 MB\n",
      "Disk Space Available: 200425.16 MB\n",
      "\n",
      "Execution complete.\n"
     ]
    },
    {
     "data": {
      "text/plain": [
       "<Figure size 600x400 with 24 Axes>"
      ],
      "image/png": "[encoded data removed]"
     },
     "metadata": {},
     "output_type": "display_data"
    }
   ],
   "execution_count": 19
  },
  {
   "metadata": {
    "ExecuteTime": {
     "end_time": "2024-10-08T01:34:11.760659Z",
     "start_time": "2024-10-08T01:34:11.511007Z"
    }
   },
   "cell_type": "code",
   "source": [
    "# Task 3 and 4\n",
    "\n",
    "import seaborn as sns\n",
    "from sklearn.metrics import confusion_matrix, accuracy_score\n",
    "from sklearn.neighbors import KNeighborsClassifier \n",
    "import matplotlib.pyplot as plt\n",
    "\n",
    "def classify_digits_knn(X_train, y_train, X_test, y_test, n_neighbors=3):\n",
    "    \"\"\"\n",
    "    Classify digits using k-NN algorithm with error handling and code checks.\n",
    "\n",
    "    Args:\n",
    "    - X_train: Training data (features).\n",
    "    - y_train: Training data (labels).\n",
    "    - X_test: Testing data (features).\n",
    "    - y_test: Testing data (labels).\n",
    "    - n_neighbors: Number of neighbors to consider in k-NN (default=3).\n",
    "\n",
    "    Returns:\n",
    "    - accuracy: The accuracy score of the model on the test set.\n",
    "    \"\"\"\n",
    "    try:\n",
    "        print(f\"\\nInitializing k-NN model with {n_neighbors} neighbors...\")\n",
    "        knn = KNeighborsClassifier(n_neighbors=n_neighbors)\n",
    "        \n",
    "        # Train the model\n",
    "        try:\n",
    "            print(\"\\nTraining the k-NN model...\")\n",
    "            knn.fit(X_train, y_train)\n",
    "        except Exception as e:\n",
    "            raise RuntimeError(f\"Error during model training: {e}\")\n",
    "        else:\n",
    "            print(\"k-NN model successfully trained.\")\n",
    "\n",
    "        # Make predictions on the test set\n",
    "        try:\n",
    "            print(\"\\nMaking predictions on the test set...\")\n",
    "            y_pred = knn.predict(X_test)\n",
    "        except Exception as e:\n",
    "            raise RuntimeError(f\"Error during prediction: {e}\")\n",
    "        else:\n",
    "            print(\"Predictions successfully made.\")\n",
    "\n",
    "        # Calculate accuracy\n",
    "        try:\n",
    "            print(\"\\nCalculating accuracy of the model...\")\n",
    "            accuracy = accuracy_score(y_test, y_pred)\n",
    "        except Exception as e:\n",
    "            raise RuntimeError(f\"Error during accuracy calculation: {e}\")\n",
    "        else:\n",
    "            print(f\"Model accuracy: {accuracy * 100:.2f}%\")\n",
    "\n",
    "            # Display a few predicted vs actual results for verification\n",
    "            print(\"\\nPredicted vs Actual labels for first 10 test samples:\")\n",
    "            for i in range(10):\n",
    "                print(f\"Predicted: {y_pred[i]}, Actual: {y_test[i]}\")\n",
    "            \n",
    "            # Confusion Matrix\n",
    "            print(\"\\nCreating a confusion matrix...\")\n",
    "            cm = confusion_matrix(y_test, y_pred)\n",
    "            print(\"Confusion matrix created.\")\n",
    "\n",
    "            # Visualize confusion matrix using heatmap\n",
    "            print(\"\\nVisualizing the confusion matrix as a heatmap...\")\n",
    "            plt.figure(figsize=(10, 7))\n",
    "            sns.heatmap(cm, annot=True, fmt=\"d\", cmap=\"Blues\", xticklabels=range(10), yticklabels=range(10))\n",
    "            plt.xlabel(\"Predicted Label\")\n",
    "            plt.ylabel(\"True Label\")\n",
    "            plt.title(\"Confusion Matrix of k-NN Model\")\n",
    "            plt.show()\n",
    "\n",
    "            return accuracy\n",
    "\n",
    "    except RuntimeError as e:\n",
    "        print(f\"A runtime error occurred: {e}\")\n",
    "    except Exception as e:\n",
    "        print(f\"An unexpected error occurred: {e}\")\n",
    "    finally:\n",
    "        print(\"\\nClassification process complete.\")\n",
    "\n",
    "# Call the function with training and test data\n",
    "accuracy = classify_digits_knn(X_train, y_train, X_test, y_test, n_neighbors=3)\n"
   ],
   "outputs": [
    {
     "name": "stdout",
     "output_type": "stream",
     "text": [
      "\n",
      "Initializing k-NN model with 3 neighbors...\n",
      "\n",
      "Training the k-NN model...\n",
      "k-NN model successfully trained.\n",
      "\n",
      "Making predictions on the test set...\n",
      "Predictions successfully made.\n",
      "\n",
      "Calculating accuracy of the model...\n",
      "Model accuracy: 98.33%\n",
      "\n",
      "Predicted vs Actual labels for first 10 test samples:\n",
      "Predicted: 6, Actual: 6\n",
      "Predicted: 9, Actual: 9\n",
      "Predicted: 3, Actual: 3\n",
      "Predicted: 7, Actual: 7\n",
      "Predicted: 2, Actual: 2\n",
      "Predicted: 1, Actual: 1\n",
      "Predicted: 5, Actual: 5\n",
      "Predicted: 2, Actual: 2\n",
      "Predicted: 5, Actual: 5\n",
      "Predicted: 2, Actual: 2\n",
      "\n",
      "Creating a confusion matrix...\n",
      "Confusion matrix created.\n",
      "\n",
      "Visualizing the confusion matrix as a heatmap...\n"
     ]
    },
    {
     "data": {
      "text/plain": [
       "<Figure size 1000x700 with 2 Axes>"
      ],
      "image/png": "[encoded data removed]"
     },
     "metadata": {},
     "output_type": "display_data"
    },
    {
     "name": "stdout",
     "output_type": "stream",
     "text": [
      "\n",
      "Classification process complete.\n"
     ]
    }
   ],
   "execution_count": 20
  },
  {
   "cell_type": "markdown",
   "metadata": {},
   "source": [
    "### Questions\n",
    "\n",
    "Answer the following questions:\n",
    "\n",
    "1. Explain the 3-nearest-neighbour model in max 5 sentences.\n",
    "\n",
    "2. What is the difference between categorial data and numerical data?\n",
    "\n",
    "3. What can you use the heat map for?"
   ]
  },
  {
   "cell_type": "markdown",
   "metadata": {},
   "source": [
    "### Answers\n",
    "\n",
    "Write your answers here.\n",
    "\n",
    "### 1. Explain the 3-nearest-neighbour model in max 5 sentences.\n",
    "\n",
    "The 3-nearest-neighbor (3-NN) model classifies a data point by looking at its 3 closest neighbors in the training set based on a distance metric (like Euclidean distance). The data point is assigned to the class that the majority of its neighbors belong to. It's a simple, non-parametric method that works well for small datasets and requires no model training. However, it can be sensitive to the choice of k and can struggle with large datasets due to computational cost.\n",
    "\n",
    "### 2. What is the difference between categorical data and numerical data?\n",
    "\n",
    "Categorical data represents discrete values or categories (e.g., colors, labels) with no inherent numerical meaning, while numerical data represents quantifiable values (e.g., age, temperature) where mathematical operations can be applied.\n",
    "\n",
    "### 3. What can you use the heat map for?\n",
    "\n",
    "A heatmap can be used to visualize data patterns, relationships, and trends, often for correlation matrices, confusion matrices, or to show the distribution of values across categories in a dataset.\n"
   ]
  },
  {
   "cell_type": "code",
   "metadata": {
    "ExecuteTime": {
     "end_time": "2024-10-08T01:34:11.763171Z",
     "start_time": "2024-10-08T01:34:11.760659Z"
    }
   },
   "source": [],
   "outputs": [],
   "execution_count": 20
  }
 ],
 "metadata": {
  "kernelspec": {
   "display_name": "Python 3 (ipykernel)",
   "language": "python",
   "name": "python3"
  },
  "language_info": {
   "codemirror_mode": {
    "name": "ipython",
    "version": 3
   },
   "file_extension": ".py",
   "mimetype": "text/x-python",
   "name": "python",
   "nbconvert_exporter": "python",
   "pygments_lexer": "ipython3",
   "version": "3.9.17"
  }
 },
 "nbformat": 4,
 "nbformat_minor": 4
}
