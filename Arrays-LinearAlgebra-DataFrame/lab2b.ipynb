{
 "cells": [
  {
   "cell_type": "code",
   "execution_count": 1,
   "metadata": {},
   "outputs": [],
   "source": [
    "# Trinidad Marroquin, Jr.\n",
    "# qsq707"
   ]
  },
  {
   "cell_type": "markdown",
   "metadata": {},
   "source": [
    "## Lab 2B - Programming With AI\n",
    "\n",
    "We are comparing AI generated code with human code. Let's program again a function which computes the factorial of a number (as in Lab Lab 1A).\n",
    "This is the formula:. \n",
    "\n",
    "$$ n!  = 1*2*3*4*...*(n-2)*(n-1)*n $$\n",
    "\n",
    "**Tasks**\n",
    "\n",
    "1. Get an account at ChatGTP (https://chat.openai.com/)\n",
    "2. Enter the following task into the ChatGTP chat window: Write a function that computes the factorial named factorial. It takes in one parameter: n the value that you are finding the value of. Assume that the parameter value will always be a whole number. The function returns the factorial of the parameter value. If the function is called with a negative number, return -1. \n",
    "3. Compare your own solution (lab 1A) with the one from ChatGTP and write 5 sentences about the comparancy.  \n",
    "\n",
    "\n",
    "\n"
   ]
  },
  {
   "cell_type": "markdown",
   "metadata": {},
   "source": [
    "Write your answer for task 3 here.\n",
    "\n",
    "The code generated appears more efficient, and the AI implemented recursion which I should have considered.  Also, the response included some test cases to validate the results, this is very helpful.  The AI generated some output code to show the results, but it wasn't that user-friendly; although I was able to determine the results were correct.  Moreover, the comments weren't as verbose as mine, and it didn't include any information about the function related to inputs or return values.  I think the results were satisfactory but in the end a human could make it more readable and supportable, or guide the AI code generator along the way.  \n",
    "\n",
    "Here is the AI generated code:\n",
    "\n",
    "```python\n",
    "def factorial(n):\n",
    "    # Check if the input is negative, return -1 for invalid input\n",
    "    if n < 0:\n",
    "        return -1\n",
    "    # Base case: factorial of 0 is 1\n",
    "    elif n == 0:\n",
    "        return 1\n",
    "    else:\n",
    "        # Recursively calculate the factorial\n",
    "        return n * factorial(n - 1)\n",
    "\n",
    "# Test cases\n",
    "test_values = [5, 0, -3, 10]\n",
    "factorial_results = {n: factorial(n) for n in test_values}\n",
    "factorial_results\n",
    "```\n",
    "\n",
    "Here is my code:\n",
    "\n",
    "```python\n",
    "def factorial( n ):\n",
    "    \"\"\"\n",
    "    This function computes the factorial of n.\n",
    "\n",
    "    Parameters\n",
    "    ----------\n",
    "    n : int\n",
    "        The number to compute the factorial of.\n",
    "\n",
    "    Returns\n",
    "    -------\n",
    "    int\n",
    "        The factorial of n.\n",
    "            OR\n",
    "        Returns -1 for negative numbers.  \n",
    "    \"\"\"\n",
    "    \n",
    "    if n < 0:\n",
    "            return -1  # Return -1 for negative numbers\n",
    "    elif n == 0 or n == 1:\n",
    "        return 1  # The factorial of 0 or 1 is 1\n",
    "    else:\n",
    "        result = 1\n",
    "        for i in range(2, n + 1):\n",
    "            result *= i  # Multiply result by each number up to n\n",
    "        return result\n",
    "```\n"
   ]
  }
 ],
 "metadata": {
  "celltoolbar": "Create Assignment",
  "kernelspec": {
   "display_name": "Python 3 (ipykernel)",
   "language": "python",
   "name": "python3"
  },
  "language_info": {
   "codemirror_mode": {
    "name": "ipython",
    "version": 3
   },
   "file_extension": ".py",
   "mimetype": "text/x-python",
   "name": "python",
   "nbconvert_exporter": "python",
   "pygments_lexer": "ipython3",
   "version": "3.9.17"
  }
 },
 "nbformat": 4,
 "nbformat_minor": 4
}
