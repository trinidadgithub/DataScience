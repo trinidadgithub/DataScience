{
 "cells": [
  {
   "cell_type": "code",
   "metadata": {
    "ExecuteTime": {
     "end_time": "2024-09-21T15:01:15.212073Z",
     "start_time": "2024-09-21T15:01:15.209612Z"
    }
   },
   "source": [
    "# Trinidad Marroquin\n",
    "# qsq707"
   ],
   "outputs": [],
   "execution_count": 1
  },
  {
   "cell_type": "markdown",
   "metadata": {},
   "source": [
    "## Lab 3\n",
    "\n",
    "<em>Lab 3 consists of an exercise on string processing with an emphasis in regular expressions. </em>\n",
    "\n",
    "In this lab, you will write a function that convert any imperial measurements within a sentence to metric. For example, if the original string said ```'This pencil was 2 inches long```, then the function will return ```'This pencil was 5 centimeters long'```. \n",
    "\n",
    "\n",
    "\n",
    "### Tasks\n",
    "\n",
    "1. Write a function ```convertString``` that will convert imperial measurements within a sentence to metric. It takes in one parameter ```sentence``` which is a descriptive sentence with an imperial measurement. It will return the same sentence but with the imperial measurement replaced with the metric equivalent. Use the methods from the RegEx (regular expression) module to modify the string.\n",
    "    - Tip: ```re.compile(r'(\\d+\\.\\d+|\\d+) foot?')``` represents any number in front of \"foot\". Search for that pattern and replace it.\n",
    "    - TIp2: When you have a ```matchobject = re.search(r'(\\d+\\.\\d+|\\d+) inch(?:es)?', sentence)``` you can retrieve the number with ```matchobject.group(1))```\n",
    "    - Convert inches to centimeters, feet and yards to meters, miles to kilometers, and °F to °C (Fahrenheit to Celsius).\n",
    "    - The function needs to also check for singular inputs like \"foot\" and \"inch\" and convert them to the metric units. The metric units can all be plural (meters, centimeters,...)\n",
    "    - Make sure the function can handle multiple values with different conversion factors in one sentence. \n",
    "    - Round the output value\n",
    "   \n",
    "   \n",
    "2. Write a function which converts Fahrenheit to Clesius. Use that function within the ```convertString``` function.\n",
    "\n",
    "3. Write a functon that searches a text for imparial units and creates a dictionary with the units and the respective metric units. (just the units without the values) Tip: You can use the findall method and create a true/fals statement.\n",
    "\n",
    "4. Produce a table with header line and the converted units from the above task.\n",
    "\n",
    "5. Add function comments.\n",
    "\n",
    "6. Run your functions to test it and leave the outputs in your submitted notebook. Use the test cases provided below."
   ]
  },
  {
   "cell_type": "code",
   "metadata": {
    "ExecuteTime": {
     "end_time": "2024-09-21T15:26:26.855391Z",
     "start_time": "2024-09-21T15:26:26.849297Z"
    }
   },
   "source": [
    "def convertString(sentence):\n",
    "    # Convert inches (singular and plural) to centimeters\n",
    "    sentence = re.sub(r'(\\d+\\.\\d+|\\d+) inches?', \n",
    "                      lambda m: f\"{round(float(m.group(1)) * INCH_TO_CM, 1)} {'centimeter' if round(float(m.group(1)) * INCH_TO_CM, 1) == 1 else 'centimeters'}\", \n",
    "                      sentence)\n",
    "    \n",
    "    # Check for singular 'inch' and convert it\n",
    "    sentence = re.sub(r'(\\b1\\b) inch', \n",
    "                      lambda m: f\"{round(float(m.group(1)) * INCH_TO_CM, 1)} {'centimeter' if round(float(m.group(1)) * INCH_TO_CM, 1) == 1 else 'centimeters'}\", \n",
    "                      sentence)\n",
    "\n",
    "    # Convert feet (singular and plural) to meters\n",
    "    sentence = re.sub(r'(\\d+\\.\\d+|\\d+) feet?', \n",
    "                      lambda m: f\"{round(float(m.group(1)) * FOOT_TO_M, 1)} {'meter' if round(float(m.group(1)) * FOOT_TO_M, 1) == 1 else 'meters'}\", \n",
    "                      sentence)\n",
    "    \n",
    "    # Check for singular 'foot' and convert it\n",
    "    sentence = re.sub(r'(\\b1\\b) foot', \n",
    "                      lambda m: f\"{round(float(m.group(1)) * FOOT_TO_M, 1)} {'meter' if round(float(m.group(1)) * FOOT_TO_M, 1) == 1 else 'meters'}\", \n",
    "                      sentence)\n",
    "\n",
    "    # Convert yards (singular and plural) to meters\n",
    "    sentence = re.sub(r'(\\d+\\.\\d+|\\d+) yards?', \n",
    "                      lambda m: f\"{round(float(m.group(1)) * YARD_TO_M, 1)} {'meter' if round(float(m.group(1)) * YARD_TO_M, 1) == 1 else 'meters'}\", \n",
    "                      sentence)\n",
    "    \n",
    "    # Check for singular 'yard' and convert it\n",
    "    sentence = re.sub(r'(\\b1\\b) yard', \n",
    "                      lambda m: f\"{round(float(m.group(1)) * YARD_TO_M, 1)} {'meter' if round(float(m.group(1)) * YARD_TO_M, 1) == 1 else 'meters'}\", \n",
    "                      sentence)\n",
    "\n",
    "    # Convert miles (singular and plural) to kilometers\n",
    "    sentence = re.sub(r'(\\d+\\.\\d+|\\d+) miles?', \n",
    "                      lambda m: f\"{round(float(m.group(1)) * MILE_TO_KM, 1)} {'kilometer' if round(float(m.group(1)) * MILE_TO_KM, 1) == 1 else 'kilometers'}\", \n",
    "                      sentence)\n",
    "    \n",
    "    # Check for singular 'mile' and convert it\n",
    "    sentence = re.sub(r'(\\b1\\b) mile', \n",
    "                      lambda m: f\"{round(float(m.group(1)) * MILE_TO_KM, 1)} {'kilometer' if round(float(m.group(1)) * MILE_TO_KM, 1) == 1 else 'kilometers'}\", \n",
    "                      sentence)\n",
    "    \n",
    "    # Convert Fahrenheit to Celsius\n",
    "    sentence = re.sub(r'(\\d+\\.\\d+|\\d+) °F', \n",
    "                      lambda m: f\"{fahrenheit_to_celsius(float(m.group(1)))} {'°C' if fahrenheit_to_celsius(float(m.group(1))) == 1 else '°C'}\", \n",
    "                      sentence)\n",
    "\n",
    "    return sentence\n"
   ],
   "outputs": [],
   "execution_count": 13
  },
  {
   "metadata": {
    "ExecuteTime": {
     "end_time": "2024-09-21T15:37:35.159900Z",
     "start_time": "2024-09-21T15:37:35.154967Z"
    }
   },
   "cell_type": "code",
   "source": [
    "# Here are some test cases:\n",
    "print('-----------------------------')\n",
    "print('-----Provided test Cases-----')\n",
    "print('-----------------------------')\n",
    "print( convertString( 'This pencil was 1 inches long, but the tape measure is 25 yards.' ) ) \n",
    "# This pencil was 7.1 centimeters long, but the tape measure is 22.9 meters.\n",
    "print( convertString( 'In the US the Covid rules were to keep a distance of 6 feet. In Europe it was 1.5 meters.' ) ) \n",
    "# In the US the Covid rules were to keep a distance of 1.8 meters. In Europe it was 1.5 meters.\n",
    "\n",
    "# Test for 2. and 3. task\n",
    "print( convertString( 'I walked 26 miles and 400 feet to school each day. At a temperature of 30 °F that was no fun.' ) )\n",
    "\n",
    "# Test cases to verify the function handles singular and plural cases\n",
    "print('-----------------------------')\n",
    "print('---Test for singular units---')\n",
    "print('-----------------------------')\n",
    "print( convertString('The length was 1 inch and the width was 2 inches.') )\n",
    "print( convertString('The length was 0.393 inches and the width was 3.28 feet.') )\n",
    "print( convertString('The door is 1 foot wide and the room is 6 feet long.') )\n",
    "print( convertString('The door is 3.28 feet wide and the room is 32.81 feet long.') )\n",
    "print( convertString('The field is 1 yard wide and 10 yards long.') )\n",
    "print( convertString('I walked 1 mile today, but yesterday I walked 5 miles.') )\n",
    "print( convertString('I walked 0.621 miles today, but yesterday I walked 3.106 miles.') )\n",
    "print( convertString('The temperature was 1 °F in the morning.') )\n",
    "\n"
   ],
   "outputs": [
    {
     "name": "stdout",
     "output_type": "stream",
     "text": [
      "-----------------------------\n",
      "-----Provided test Cases-----\n",
      "-----------------------------\n",
      "This pencil was 2.5 centimeters long, but the tape measure is 22.9 meters.\n",
      "In the US the Covid rules were to keep a distance of 1.8 meters. In Europe it was 1.5 meters.\n",
      "I walked 41.8 kilometers and 121.9 meters to school each day. At a temperature of -1.1 °C that was no fun.\n",
      "-----------------------------\n",
      "---Test for singular units---\n",
      "-----------------------------\n",
      "The length was 2.5 centimeters and the width was 5.1 centimeters.\n",
      "The length was 1.0 centimeter and the width was 1.0 meter.\n",
      "The door is 0.3 meters wide and the room is 1.8 meters long.\n",
      "The door is 1.0 meter wide and the room is 10.0 meters long.\n",
      "The field is 0.9 meters wide and 9.1 meters long.\n",
      "I walked 1.6 kilometers today, but yesterday I walked 8.0 kilometers.\n",
      "I walked 1.0 kilometer today, but yesterday I walked 5.0 kilometers.\n",
      "The temperature was -17.2 °C in the morning.\n"
     ]
    }
   ],
   "execution_count": 22
  },
  {
   "cell_type": "code",
   "metadata": {
    "ExecuteTime": {
     "end_time": "2024-09-21T15:05:05.438769Z",
     "start_time": "2024-09-21T15:05:04.450987Z"
    }
   },
   "source": [
    "import re\n",
    "import pandas as pd\n",
    "from rich.console import Console\n",
    "from rich.table import Table\n",
    "\n",
    "# Function to check for imperial units in the text\n",
    "def check_for_units(text):\n",
    "    \"\"\"\n",
    "    This function checks whether a string has units in it.\n",
    "    \n",
    "    Parameters\n",
    "    ----------\n",
    "    text : string\n",
    "       The string to be checked.\n",
    "       \n",
    "    Returns\n",
    "    -------\n",
    "    conversions_in_text : dictionary\n",
    "       The conversions in text.\n",
    "    \"\"\"\n",
    "    conversions_in_text_dictionary = {}\n",
    "    \n",
    "    # Check for various imperial units\n",
    "    if re.search(r'inches?', text):\n",
    "        conversions_in_text_dictionary['inches'] = 'centimeters'\n",
    "    if re.search(r'feet?', text):\n",
    "        conversions_in_text_dictionary['feet'] = 'meters'\n",
    "    if re.search(r'yards?', text):\n",
    "        conversions_in_text_dictionary['yards'] = 'meters'\n",
    "    if re.search(r'miles?', text):\n",
    "        conversions_in_text_dictionary['miles'] = 'kilometers'\n",
    "    if re.search(r'°F', text):\n",
    "        conversions_in_text_dictionary['°F'] = '°C'\n",
    "    \n",
    "    return conversions_in_text_dictionary\n",
    "\n",
    "# Create a list of unit conversions from the 'unit_check' results\n",
    "unit_conversions = [\n",
    "    {\"Imperial Unit\": \"inches\", \"Metric Unit\": \"centimeters\"},\n",
    "    {\"Imperial Unit\": \"feet\", \"Metric Unit\": \"meters\"},\n",
    "    {\"Imperial Unit\": \"yards\", \"Metric Unit\": \"meters\"},\n",
    "    {\"Imperial Unit\": \"miles\", \"Metric Unit\": \"kilometers\"},\n",
    "    {\"Imperial Unit\": \"°F\", \"Metric Unit\": \"°C\"}\n",
    "]\n",
    "\n",
    "# Convert the list into a pandas DataFrame\n",
    "unit_conversions_df = pd.DataFrame(unit_conversions)\n",
    "\n",
    "# Create a Console object for printing the table\n",
    "console = Console()\n",
    "\n",
    "# Create a table using the rich Table class\n",
    "table = Table(title=\"DataFrame Table\")\n",
    "\n",
    "# Add columns (based on DataFrame column names)\n",
    "for col in unit_conversions_df.columns:\n",
    "    table.add_column(col)\n",
    "\n",
    "# Add rows (each row is a list of values from DataFrame)\n",
    "for _, row in unit_conversions_df.iterrows():\n",
    "    table.add_row(*[str(value) for value in row])\n",
    "\n",
    "# Print the table to the console\n",
    "console.print(table)"
   ],
   "outputs": [
    {
     "data": {
      "text/plain": [
       "\u001B[3m        DataFrame Table        \u001B[0m\n",
       "┏━━━━━━━━━━━━━━━┳━━━━━━━━━━━━━┓\n",
       "┃\u001B[1m \u001B[0m\u001B[1mImperial Unit\u001B[0m\u001B[1m \u001B[0m┃\u001B[1m \u001B[0m\u001B[1mMetric Unit\u001B[0m\u001B[1m \u001B[0m┃\n",
       "┡━━━━━━━━━━━━━━━╇━━━━━━━━━━━━━┩\n",
       "│ inches        │ centimeters │\n",
       "│ feet          │ meters      │\n",
       "│ yards         │ meters      │\n",
       "│ miles         │ kilometers  │\n",
       "│ °F            │ °C          │\n",
       "└───────────────┴─────────────┘\n"
      ],
      "text/html": [
       "<pre style=\"white-space:pre;overflow-x:auto;line-height:normal;font-family:Menlo,'DejaVu Sans Mono',consolas,'Courier New',monospace\"><span style=\"font-style: italic\">        DataFrame Table        </span>\n",
       "┏━━━━━━━━━━━━━━━┳━━━━━━━━━━━━━┓\n",
       "┃<span style=\"font-weight: bold\"> Imperial Unit </span>┃<span style=\"font-weight: bold\"> Metric Unit </span>┃\n",
       "┡━━━━━━━━━━━━━━━╇━━━━━━━━━━━━━┩\n",
       "│ inches        │ centimeters │\n",
       "│ feet          │ meters      │\n",
       "│ yards         │ meters      │\n",
       "│ miles         │ kilometers  │\n",
       "│ °F            │ °C          │\n",
       "└───────────────┴─────────────┘\n",
       "</pre>\n"
      ]
     },
     "metadata": {},
     "output_type": "display_data"
    }
   ],
   "execution_count": 4
  },
  {
   "metadata": {},
   "cell_type": "code",
   "outputs": [],
   "execution_count": null,
   "source": ""
  }
 ],
 "metadata": {
  "celltoolbar": "Create Assignment",
  "kernelspec": {
   "display_name": "Python 3 (ipykernel)",
   "language": "python",
   "name": "python3"
  },
  "language_info": {
   "codemirror_mode": {
    "name": "ipython",
    "version": 3
   },
   "file_extension": ".py",
   "mimetype": "text/x-python",
   "name": "python",
   "nbconvert_exporter": "python",
   "pygments_lexer": "ipython3",
   "version": "3.9.17"
  }
 },
 "nbformat": 4,
 "nbformat_minor": 4
}
