{
 "cells": [
  {
   "cell_type": "code",
   "execution_count": null,
   "metadata": {},
   "outputs": [],
   "source": [
    "# Trinidad Marroquin\n",
    "# qsq707\n",
    "# DS 5023/4023 - Lab 0"
   ]
  },
  {
   "cell_type": "markdown",
   "metadata": {},
   "source": [
    "## Lab 0\n",
    "This lab is used to check the installation of the modules that are needed for this course, such as Pandas, NumPy, matplotlib, and Seaborn. You will mostly be running the code blocks for this lab, but will be asked to tweak some of the code.\n",
    "\n",
    "Each lab contains one or more exercises. In cases where an exercise can be lengthy, it will be separated into another notebook. This lab contains three exercises. "
   ]
  },
  {
   "cell_type": "markdown",
   "metadata": {},
   "source": [
    "### Exercise 1\n",
    "This exercise makes sure that the necessary modules are installed correctly, such as Pandas, NumPy, matplotlib, and Seaborn. \n",
    "\n",
    "#### Tasks\n",
    "\n",
    "1. Run the import code to make sure all the necessary modules are installed correctly. Most of them should be installed correctly if you are running Python and Jupyter Notebook. If you have not installed Seaborn, view the [Seaborn documentation](https://seaborn.pydata.org/installing.html) for installing and getting started. \n",
    "2. There should be no error messages or any output after you run it. "
   ]
  },
  {
   "cell_type": "code",
   "metadata": {
    "ExecuteTime": {
     "end_time": "2024-08-24T17:01:56.464065Z",
     "start_time": "2024-08-24T17:01:56.461014Z"
    }
   },
   "source": [
    "'''\n",
    "Exercise 1\n",
    "'''\n",
    "# On most labs, all import statements will be in the first major code block. It will \n",
    "# usually be completed for you. Be sure to run it the first time you load the notebook. \n",
    "\n",
    "# Check to make sure all the modules are installed\n",
    "import pandas as pd\n",
    "import numpy as np\n",
    "import matplotlib.pyplot as plt\n",
    "import seaborn as sns\n",
    "import random\n",
    "import math"
   ],
   "outputs": [],
   "execution_count": 1
  },
  {
   "cell_type": "markdown",
   "metadata": {},
   "source": [
    "### Exercise 2\n",
    "\n",
    "This exercise is a review of how input and output works with Jupyter notebooks. The program randomly selects a number and the user will have to guess it. The program will give messages on if the guess is correct, too high, or too low. It will keep prompting the user for a guess until the user guesses it correctly. You will need to correct the program by inserting some relational expressions\n",
    "\n",
    "#### Tasks\n",
    "1. The ```while``` loop, ```if```, and ```elif``` conditions are incorrect. Replace ```True``` with the correct relational expressions to make the code work correctly. \n",
    "2. Run the program to see how input and output works. "
   ]
  },
  {
   "cell_type": "code",
   "metadata": {
    "ExecuteTime": {
     "end_time": "2024-08-24T17:07:05.000980Z",
     "start_time": "2024-08-24T17:06:28.620070Z"
    }
   },
   "source": [
    "'''\n",
    "Exercise 2\n",
    "'''\n",
    "\n",
    "randomNumber = random.randrange( 1, 21 )\n",
    "guess = 0\n",
    "print( 'I have selected a random number between 1 and 20 inclusive. Guess my number.' )\n",
    "\n",
    "# The while loop, if, and elif conditions are incorrect. Replace True with the correct\n",
    "# relational expressions. \n",
    "while guess != randomNumber:\n",
    "    guess = int( input( 'What is your guess? ' ) )\n",
    "    if guess == randomNumber:\n",
    "        print( 'You are correct!' )\n",
    "    elif guess > randomNumber:\n",
    "        print( 'Incorrect -- your guess is too high.' )\n",
    "    else:\n",
    "        print( 'Incorrect -- your guess is too low.' )\n",
    "    \n",
    "print( 'Game over!' )"
   ],
   "outputs": [
    {
     "name": "stdout",
     "output_type": "stream",
     "text": [
      "I have selected a random number between 1 and 20 inclusive. Guess my number.\n",
      "Incorrect -- your guess is too low.\n",
      "Incorrect -- your guess is too low.\n",
      "You are correct!\n",
      "Game over!\n"
     ]
    }
   ],
   "execution_count": 3
  },
  {
   "cell_type": "markdown",
   "metadata": {},
   "source": [
    "### Exercise 3\n",
    "\n",
    "This exercises tests the Pandas, Seaborn, and matplotlib modules by creating a simple DataFrame and Seaborn visualization. The visualization created is a barplot of the top 10 most populous cities in the world. The resultant barplot will be too small and you will need to change the figure size. \n",
    "\n",
    "#### Tasks\n",
    "1. Run the code to see the visualization. If your modules are installed correctly, the code should generate the visualization. You should be able to see a small barplot. \n",
    "2. The barplot is too small. Change the dimensions in the ```figsize``` tuple so that you can easily read the labels on the X axis. \n",
    "3. Answer the questions below. Unless otherwise instructed, responses should only be 1-3 sentences. You can edit the Markdown box to add your responses."
   ]
  },
  {
   "cell_type": "code",
   "metadata": {
    "ExecuteTime": {
     "end_time": "2024-08-24T17:28:13.359557Z",
     "start_time": "2024-08-24T17:28:13.150204Z"
    }
   },
   "source": [
    "'''\n",
    "Exercise 3\n",
    "'''\n",
    "# Data is from https://en.wikipedia.org/wiki/List_of_largest_cities\n",
    "\n",
    "# Manually create the DataFrame\n",
    "data = [ { 'City': 'Tokyo', 'Population' : 37400088 }, \\\n",
    "        { 'City': 'Delhi', 'Population' : 28514000 }, \\\n",
    "        { 'City': 'Shanghai', 'Population' : 25582000 }, \\\n",
    "        { 'City': 'Sao Paulo', 'Population' : 21650000 },\\\n",
    "        { 'City': 'Mexico City', 'Population' : 21581000 }, \\\n",
    "        { 'City': 'Cairo', 'Population' : 20076000 }, \\\n",
    "        { 'City': 'Mumbai', 'Population' : 19980000 }, \\\n",
    "        { 'City': 'Beijing', 'Population' : 19618000 }, \\\n",
    "        { 'City': 'Dhaka', 'Population' : 19578000 }, \\\n",
    "        { 'City': 'Osaka', 'Population' : 19281000 } ]\n",
    "df = pd.DataFrame( data, columns=[ 'City', 'Population'] )\n",
    "\n",
    "# Create the Seaborn barplot\n",
    "# The barplot is too small. Change the dimensions in the figsize tuple so that \n",
    "# you can easily read the labels on the X axis.\n",
    "plt.figure( figsize=(10,6) )\n",
    "axes = sns.barplot( x='City', y='Population', data=df, palette='bright' )\n",
    "axes.set_title( 'Top Ten Most Populous Cities in the World' )"
   ],
   "outputs": [
    {
     "name": "stderr",
     "output_type": "stream",
     "text": [
      "C:\\Users\\Trinidad\\AppData\\Local\\Temp\\ipykernel_23468\\1929815433.py:23: FutureWarning: \n",
      "\n",
      "Passing `palette` without assigning `hue` is deprecated and will be removed in v0.14.0. Assign the `x` variable to `hue` and set `legend=False` for the same effect.\n",
      "\n",
      "  axes = sns.barplot( x='City', y='Population', data=df, palette='bright' )\n"
     ]
    },
    {
     "data": {
      "text/plain": [
       "Text(0.5, 1.0, 'Top Ten Most Populous Cities in the World')"
      ]
     },
     "execution_count": 7,
     "metadata": {},
     "output_type": "execute_result"
    },
    {
     "data": {
      "text/plain": [
       "<Figure size 1000x600 with 1 Axes>"
      ],
      "image/png": "[encoded data removed]"
     },
     "metadata": {},
     "output_type": "display_data"
    }
   ],
   "execution_count": 7
  },
  {
   "cell_type": "markdown",
   "metadata": {},
   "source": [
    "#### Exercise 3 Questions\n",
    "\n",
    "1. Which continent has the most cities represented on this top 10 list of the largest cities in the world according to population?\n",
    "\n",
    "My response goes here:  Asia\n",
    "\n",
    "2. Have you visited any of these cities on this list? If so, select one that you visited and describe your impression of the city in terms of the number of people. If you have not visited any of these cities, which city on this list would you ike to visit most and why? \n",
    "\n",
    "My response goes here:  Mexico City, my impression was that it has a lot of people packed into a valley surrounded my mountains."
   ]
  },
  {
   "cell_type": "code",
   "execution_count": null,
   "metadata": {},
   "outputs": [],
   "source": []
  }
 ],
 "metadata": {
  "kernelspec": {
   "display_name": "Python 3",
   "language": "python",
   "name": "python3"
  },
  "language_info": {
   "codemirror_mode": {
    "name": "ipython",
    "version": 3
   },
   "file_extension": ".py",
   "mimetype": "text/x-python",
   "name": "python",
   "nbconvert_exporter": "python",
   "pygments_lexer": "ipython3",
   "version": "3.7.6"
  }
 },
 "nbformat": 4,
 "nbformat_minor": 4
}
